{
 "cells": [
  {
   "cell_type": "code",
   "execution_count": 1,
   "id": "1cdd1f86",
   "metadata": {},
   "outputs": [
    {
     "name": "stdout",
     "output_type": "stream",
     "text": [
      "Observation space: Box([-4.8000002e+00 -3.4028235e+38 -4.1887903e-01 -3.4028235e+38], [4.8000002e+00 3.4028235e+38 4.1887903e-01 3.4028235e+38], (4,), float32)\n",
      "Action space: Discrete(2)\n",
      "Action size: 2\n"
     ]
    },
    {
     "name": "stderr",
     "output_type": "stream",
     "text": [
      "C:\\Users\\diyaa\\anaconda3\\lib\\site-packages\\gym\\envs\\classic_control\\cartpole.py:177: UserWarning: \u001b[33mWARN: You are calling 'step()' even though this environment has already returned terminated = True. You should always call 'reset()' once you receive 'terminated = True' -- any further steps are undefined behavior.\u001b[0m\n",
      "  logger.warn(\n"
     ]
    }
   ],
   "source": [
    "import gym\n",
    "import random\n",
    "\n",
    "env_name = 'CartPole-v1'\n",
    "env = gym.make(env_name, render_mode='human')\n",
    "print('Observation space:', env.observation_space)\n",
    "print('Action space:', env.action_space)\n",
    "\n",
    "\n",
    "class Agent():\n",
    "    def __init__(self, env):\n",
    "        self.action_size = env.action_space.n\n",
    "        print('Action size:', self.action_size)\n",
    "\n",
    "    def get_action(self, state):\n",
    "        pole_angle = state[2]\n",
    "        if pole_angle<0:\n",
    "            action = 0\n",
    "        else:\n",
    "            action = 1\n",
    "        return action\n",
    "    \n",
    "agent = Agent(env)\n",
    "state = env.reset()[0]\n",
    "\n",
    "for _ in range(200):\n",
    "    action = agent.get_action(state)\n",
    "    state = env.step(action)[0]\n",
    "    env.render()        \n",
    "\n"
   ]
  },
  {
   "cell_type": "code",
   "execution_count": 2,
   "id": "bac14ee2",
   "metadata": {},
   "outputs": [],
   "source": [
    "env.close()"
   ]
  },
  {
   "cell_type": "code",
   "execution_count": null,
   "id": "1d44955e",
   "metadata": {},
   "outputs": [],
   "source": []
  }
 ],
 "metadata": {
  "kernelspec": {
   "display_name": "Python 3 (ipykernel)",
   "language": "python",
   "name": "python3"
  },
  "language_info": {
   "codemirror_mode": {
    "name": "ipython",
    "version": 3
   },
   "file_extension": ".py",
   "mimetype": "text/x-python",
   "name": "python",
   "nbconvert_exporter": "python",
   "pygments_lexer": "ipython3",
   "version": "3.9.13"
  }
 },
 "nbformat": 4,
 "nbformat_minor": 5
}
